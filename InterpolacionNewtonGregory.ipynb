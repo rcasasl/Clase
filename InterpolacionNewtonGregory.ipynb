{
 "cells": [
  {
   "cell_type": "code",
   "execution_count": 93,
   "id": "bf11b64b",
   "metadata": {},
   "outputs": [],
   "source": [
    "import numpy as np\n",
    "import matplotlib.pyplot as plt\n",
    "from matplotlib import rc\n",
    "import pandas as pd\n",
    "import sympy as sym\n",
    "import os.path as path\n",
    "import urllib.request as urll"
   ]
  },
  {
   "cell_type": "code",
   "execution_count": 94,
   "id": "765f6f2d",
   "metadata": {},
   "outputs": [
    {
     "name": "stdout",
     "output_type": "stream",
     "text": [
      "--File found---\n"
     ]
    }
   ],
   "source": [
    "url = 'https://raw.githubusercontent.com/asegura4488/Database/main/MetodosComputacionalesReforma/InterpolacionNewtonNoequi.csv'\n",
    "filename = 'InterpolacionNewtonNoequi.csv'\n",
    "if not path.exists(filename):\n",
    "    Path = urll.urlretrieve(url, filename)\n",
    "else:\n",
    "    print('--File found---')\n",
    "    Path_ = filename"
   ]
  },
  {
   "cell_type": "code",
   "execution_count": 95,
   "id": "bd861ce0",
   "metadata": {},
   "outputs": [],
   "source": [
    "Data = pd.read_csv(Path_,sep=\",\")"
   ]
  },
  {
   "cell_type": "code",
   "execution_count": 96,
   "id": "ce2c7032",
   "metadata": {},
   "outputs": [],
   "source": [
    "X = np.float64(Data['X'])\n",
    "Y = np.float64(Data['Y'])"
   ]
  },
  {
   "cell_type": "code",
   "execution_count": 97,
   "id": "6a778008",
   "metadata": {},
   "outputs": [
    {
     "data": {
      "text/plain": [
       "array([[-18.,   0.,   0.,   0.,   0.,   0.],\n",
       "       [-13.,   5.,   0.,   0.,   0.,   0.],\n",
       "       [  0.,  13.,   8.,   0.,   0.,   0.],\n",
       "       [  5.,   5.,  -8., -16.,   0.,   0.],\n",
       "       [  3.,  -2.,  -7.,   1.,  17.,   0.],\n",
       "       [ 10.,   7.,   9.,  16.,  15.,  -2.]])"
      ]
     },
     "execution_count": 97,
     "metadata": {},
     "output_type": "execute_result"
    }
   ],
   "source": [
    "Diff = np.zeros((len(Y),len(Y)))\n",
    "Diff[:,0] = Y\n",
    "\n",
    "for i in range(1,len(X)):\n",
    "    for j in range(i,len(Y)):\n",
    "        Diff[j,i] = Diff[j,i-1]-Diff[j-1,i-1]\n",
    "Diff"
   ]
  },
  {
   "cell_type": "code",
   "execution_count": 98,
   "id": "ed4c7bff",
   "metadata": {},
   "outputs": [],
   "source": [
    "def NewtonGregory(X,Y,x):\n",
    "    \n",
    "    Sum_ = Y[0]\n",
    "    \n",
    "    Diff = np.zeros((len(X),len(Y)))\n",
    "    Diff[:,0] = Y\n",
    "\n",
    "    h = X[1] - X[0]\n",
    "            \n",
    "    poly = 1.0\n",
    "    \n",
    "    for i in range(1,len(X)):\n",
    "        \n",
    "        poly *= ( x - X[i-1] )\n",
    "        \n",
    "        for j in range(i, len(X)):\n",
    "            \n",
    "            Diff[j,i] = Diff[j,i-1]-Diff[j-1,i-1]\n",
    "            \n",
    "        Sum_ += poly*(Diff[i,i])/(np.math.factorial(i)*h**(i))\n",
    "    \n",
    "    return Sum_,np.round(Diff,2)"
   ]
  },
  {
   "cell_type": "code",
   "execution_count": 99,
   "id": "d1b7c07d",
   "metadata": {},
   "outputs": [],
   "source": [
    "x = np.linspace(np.min(X),np.max(X),100)\n",
    "y,_ = NewtonGregory(X,Y,x)"
   ]
  },
  {
   "cell_type": "code",
   "execution_count": 100,
   "id": "c02343b2",
   "metadata": {},
   "outputs": [
    {
     "data": {
      "text/plain": [
       "[<matplotlib.lines.Line2D at 0x1bae78f5220>]"
      ]
     },
     "execution_count": 100,
     "metadata": {},
     "output_type": "execute_result"
    },
    {
     "data": {
      "image/png": "[encoded data removed]",
      "text/plain": [
       "<Figure size 432x288 with 1 Axes>"
      ]
     },
     "metadata": {
      "needs_background": "light"
     },
     "output_type": "display_data"
    }
   ],
   "source": [
    "plt.scatter(X,Y,color='red')\n",
    "plt.plot(x,y)"
   ]
  },
  {
   "cell_type": "code",
   "execution_count": 101,
   "id": "d4db78a6",
   "metadata": {},
   "outputs": [],
   "source": [
    "x = sym.Symbol('x',Real='True')\n",
    "y,_ = NewtonGregory(X,Y,x)"
   ]
  },
  {
   "cell_type": "code",
   "execution_count": 102,
   "id": "65723ef9",
   "metadata": {},
   "outputs": [],
   "source": [
    "y = y.simplify()"
   ]
  },
  {
   "cell_type": "code",
   "execution_count": 103,
   "id": "47051a8a",
   "metadata": {},
   "outputs": [
    {
     "data": {
      "text/latex": [
       "$\\displaystyle - 0.00219478737997257 x^{5} + 0.165157750342936 x^{4} - 1.91458984910837 x^{3} + 6.99914403292181 x^{2} - 3.40385185185185 x - 18.0$"
      ],
      "text/plain": [
       "-0.00219478737997257*x**5 + 0.165157750342936*x**4 - 1.91458984910837*x**3 + 6.99914403292181*x**2 - 3.40385185185185*x - 18.0"
      ]
     },
     "execution_count": 103,
     "metadata": {},
     "output_type": "execute_result"
    }
   ],
   "source": [
    "y"
   ]
  }
 ],
 "metadata": {
  "kernelspec": {
   "display_name": "Python 3 (ipykernel)",
   "language": "python",
   "name": "python3"
  },
  "language_info": {
   "codemirror_mode": {
    "name": "ipython",
    "version": 3
   },
   "file_extension": ".py",
   "mimetype": "text/x-python",
   "name": "python",
   "nbconvert_exporter": "python",
   "pygments_lexer": "ipython3",
   "version": "3.8.8"
  }
 },
 "nbformat": 4,
 "nbformat_minor": 5
}
