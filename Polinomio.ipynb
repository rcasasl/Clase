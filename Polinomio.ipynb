{
 "cells": [
  {
   "cell_type": "code",
   "execution_count": 14,
   "id": "c95b5555",
   "metadata": {},
   "outputs": [],
   "source": [
    "import numpy as np\n",
    "import sympy as sym\n",
    "import matplotlib.pyplot as plt"
   ]
  },
  {
   "cell_type": "code",
   "execution_count": 15,
   "id": "2f4e5e5f",
   "metadata": {},
   "outputs": [],
   "source": [
    "def Function(x):\n",
    "    return 5*(1-np.exp(-x))-x"
   ]
  },
  {
   "cell_type": "code",
   "execution_count": 16,
   "id": "a43d7817",
   "metadata": {},
   "outputs": [],
   "source": [
    "x = np.linspace(-1,7,100)\n",
    "y = Function(x)"
   ]
  },
  {
   "cell_type": "code",
   "execution_count": 17,
   "id": "a4d28862",
   "metadata": {},
   "outputs": [
    {
     "data": {
      "text/plain": [
       "<matplotlib.lines.Line2D at 0x1da2d1471c0>"
      ]
     },
     "execution_count": 17,
     "metadata": {},
     "output_type": "execute_result"
    },
    {
     "data": {
      "image/png": "[encoded data removed]",
      "text/plain": [
       "<Figure size 432x288 with 1 Axes>"
      ]
     },
     "metadata": {
      "needs_background": "light"
     },
     "output_type": "display_data"
    }
   ],
   "source": [
    "plt.plot(x,y)\n",
    "plt.axhline(y=0,color='r')"
   ]
  },
  {
   "cell_type": "code",
   "execution_count": 24,
   "id": "118c6d05",
   "metadata": {},
   "outputs": [],
   "source": [
    "def DerivativeC(f,x,h=1e-6):\n",
    "    return (f(x+h) - f(x-h))/(2*h)"
   ]
  },
  {
   "cell_type": "code",
   "execution_count": 25,
   "id": "2012980c",
   "metadata": {},
   "outputs": [],
   "source": [
    "def GetNewtonMethod(f,df,xn,itmax=1000,precision=1e-5):\n",
    "    error = 1\n",
    "    it=0\n",
    "    \n",
    "    while error > precision and it < itmax:\n",
    "        \n",
    "        try:\n",
    "            \n",
    "            xn1 = xn - f(xn)/df(f,xn)\n",
    "            error = np.abs(f(xn)/df(f,xn))\n",
    "            \n",
    "        except ZeroDivisionError:\n",
    "            print('Division por cero')\n",
    "        \n",
    "        xn = xn1\n",
    "        it += 1\n",
    "        \n",
    "        \n",
    "    print('raiz:', xn,it)\n",
    "    \n",
    "    if it == itmax:\n",
    "        return False\n",
    "    else:\n",
    "        return xn\n",
    "            \n",
    "            \n",
    "        "
   ]
  },
  {
   "cell_type": "code",
   "execution_count": 27,
   "id": "3a18c8a7",
   "metadata": {},
   "outputs": [
    {
     "name": "stdout",
     "output_type": "stream",
     "text": [
      "raiz: -3.8695397511579393e-13 7\n"
     ]
    }
   ],
   "source": [
    "root = GetNewtonMethod(Function,DerivativeC,1)"
   ]
  },
  {
   "cell_type": "code",
   "execution_count": 28,
   "id": "85068edc",
   "metadata": {},
   "outputs": [],
   "source": [
    "def GetAllRoots(x,tolerancia=8): \n",
    "    \n",
    "    Roots = np.array([])\n",
    "    for i in x:\n",
    "        root = GetNewtonMethod(Function,DerivativeC,i)\n",
    "        \n",
    "        if root!= False:\n",
    "            \n",
    "            croot = np.round( root, tolerancia)\n",
    "            \n",
    "            if croot not in Roots:\n",
    "                Roots = np.append(Roots,croot)\n",
    "    Roots.sort()\n",
    "    \n",
    "    return Roots\n",
    "    "
   ]
  },
  {
   "cell_type": "code",
   "execution_count": 30,
   "id": "2eeb897e",
   "metadata": {},
   "outputs": [
    {
     "name": "stdout",
     "output_type": "stream",
     "text": [
      "raiz: -2.2290353603821657e-17 15\n",
      "raiz: -6.412574472494283e-17 15\n",
      "raiz: -2.2938231966735333e-11 14\n",
      "raiz: -5.375636158711221e-13 14\n",
      "raiz: -7.16939308878594e-15 14\n",
      "raiz: -7.817249203108707e-17 14\n",
      "raiz: -8.522438501052363e-17 14\n",
      "raiz: -1.91838841734598e-11 13\n",
      "raiz: -4.374813170460637e-13 13\n",
      "raiz: -5.714599575846796e-15 13\n",
      "raiz: -1.4718903104966553e-16 13\n",
      "raiz: 1.3684273091109527e-17 13\n",
      "raiz: -1.5942416600045603e-11 12\n",
      "raiz: -3.528499988394475e-13 12\n",
      "raiz: -4.527371634551338e-15 12\n",
      "raiz: -1.848659192929157e-16 12\n",
      "raiz: -3.092692383881613e-17 12\n",
      "raiz: -1.3061377565622243e-11 11\n",
      "raiz: -2.7916489757459395e-13 11\n",
      "raiz: -3.4013617686739337e-15 11\n",
      "raiz: -1.4900750159957965e-16 11\n",
      "raiz: 5.106389097527798e-19 11\n",
      "raiz: -1.0341059701559805e-11 10\n",
      "raiz: -2.1061192647962775e-13 10\n",
      "raiz: -2.501069520513541e-15 10\n",
      "raiz: -7.226634387530026e-17 10\n",
      "raiz: 1.1433082861242865e-16 10\n",
      "raiz: -7.524628013708709e-12 9\n",
      "raiz: -1.4143453709550578e-13 9\n",
      "raiz: -1.5466744920677128e-15 9\n",
      "raiz: 7.649681518877613e-18 9\n",
      "raiz: 6.869442098107626e-17 9\n",
      "raiz: -4.4238145247264295e-12 8\n",
      "raiz: -7.069087632460543e-14 8\n",
      "raiz: -6.20358724937373e-16 8\n",
      "raiz: 5.1966383280676666e-18 8\n",
      "raiz: -1.3759297281823654e-16 8\n",
      "raiz: -1.4793216511978273e-12 7\n",
      "raiz: -1.582142507808884e-14 7\n",
      "raiz: -2.1248979369295576e-16 7\n",
      "raiz: 5.208270245238964e-17 7\n",
      "raiz: -9.577459681722137e-12 6\n",
      "raiz: -9.01347759738768e-14 6\n",
      "raiz: -2.0380744955760929e-16 6\n",
      "raiz: 7.313441181873663e-17 6\n",
      "raiz: -5.542233383821528e-12 5\n",
      "raiz: -1.088472886135781e-14 5\n",
      "raiz: -8.115255453082624e-17 5\n",
      "raiz: -1.072302346369965e-12 4\n",
      "raiz: -1.0534904664630163e-16 4\n",
      "raiz: -7.430039971652951e-17 4\n",
      "raiz: -1.7908787117387834e-11 4\n",
      "raiz: -1.5315684310475078e-14 5\n",
      "raiz: 8.079496559279048e-18 6\n",
      "raiz: -5.662754251689537e-17 7\n",
      "raiz: -3.9460077574657776e-14 8\n",
      "raiz: -2.453892936949315e-12 11\n",
      "raiz: -3.25511676922181e-11 28\n",
      "raiz: 4.965114231744276 5\n",
      "raiz: 4.965114231744276 5\n",
      "raiz: 4.965114231744277 5\n",
      "raiz: 4.9651142317447805 4\n",
      "raiz: 4.965114231744325 4\n",
      "raiz: 4.9651142317442805 4\n",
      "raiz: 4.965114231744277 4\n",
      "raiz: 4.965114231744277 4\n",
      "raiz: 4.965114231744276 4\n",
      "raiz: 4.965114231744276 4\n",
      "raiz: 4.965114231744276 4\n",
      "raiz: 4.965114231744276 4\n",
      "raiz: 4.965114231745785 3\n",
      "raiz: 4.965114231744361 3\n",
      "raiz: 4.965114231744279 3\n",
      "raiz: 4.965114231744276 3\n",
      "raiz: 4.965114231744637 2\n",
      "raiz: 4.965114231744276 3\n",
      "raiz: 4.965114231744277 3\n",
      "raiz: 4.965114231744279 3\n",
      "raiz: 4.9651142317442885 3\n",
      "raiz: 4.9651142317443195 3\n",
      "raiz: 4.965114231744392 3\n",
      "raiz: 4.96511423174452 3\n",
      "raiz: 4.965114231744725 3\n",
      "raiz: 4.965114231745004 3\n",
      "raiz: 4.965114231745366 3\n",
      "raiz: 4.965114231745785 3\n",
      "raiz: 4.965114231744276 4\n",
      "raiz: 4.965114231744276 4\n",
      "raiz: 4.965114231744277 4\n",
      "raiz: 4.965114231744277 4\n",
      "raiz: 4.965114231744277 4\n",
      "raiz: 4.965114231744277 4\n",
      "raiz: 4.965114231744276 4\n",
      "raiz: 4.965114231744277 4\n",
      "raiz: 4.965114231744276 4\n",
      "raiz: 4.965114231744277 4\n",
      "raiz: 4.965114231744276 4\n",
      "raiz: 4.965114231744276 4\n",
      "raiz: 4.965114231744277 4\n",
      "raiz: 4.965114231744276 4\n"
     ]
    }
   ],
   "source": [
    "xtrail = np.linspace(-10,10,100)\n",
    "Roots = GetAllRoots(xtrail)"
   ]
  }
 ],
 "metadata": {
  "kernelspec": {
   "display_name": "Python 3 (ipykernel)",
   "language": "python",
   "name": "python3"
  },
  "language_info": {
   "codemirror_mode": {
    "name": "ipython",
    "version": 3
   },
   "file_extension": ".py",
   "mimetype": "text/x-python",
   "name": "python",
   "nbconvert_exporter": "python",
   "pygments_lexer": "ipython3",
   "version": "3.8.8"
  }
 },
 "nbformat": 4,
 "nbformat_minor": 5
}
