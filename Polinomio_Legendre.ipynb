{
 "cells": [
  {
   "cell_type": "code",
   "execution_count": 189,
   "id": "9bd410de",
   "metadata": {},
   "outputs": [],
   "source": [
    "import numpy as np\n",
    "import sympy as sym\n",
    "from matplotlib import rc\n",
    "import matplotlib.pyplot as plt"
   ]
  },
  {
   "cell_type": "code",
   "execution_count": 190,
   "id": "c8dcb380",
   "metadata": {},
   "outputs": [],
   "source": [
    "def GetLegendre(n):\n",
    "    \n",
    "    x = sym.Symbol('x',Real=True)\n",
    "    y = sym.Symbol('y',Real=True)\n",
    "    \n",
    "    y = ((x**2)-1)**n\n",
    "    dif = sym.diff(y,x,n)\n",
    "    p = (dif/((2**n)*np.math.factorial(n)))\n",
    "    poly = sym.lambdify([x],p,'numpy')\n",
    "    return poly"
   ]
  },
  {
   "cell_type": "code",
   "execution_count": 192,
   "id": "3a6e7095",
   "metadata": {},
   "outputs": [
    {
     "data": {
      "text/plain": [
       "<function _lambdifygenerated(x)>"
      ]
     },
     "execution_count": 192,
     "metadata": {},
     "output_type": "execute_result"
    }
   ],
   "source": [
    "GetLegendre(n)"
   ]
  },
  {
   "cell_type": "code",
   "execution_count": null,
   "id": "9d9429fe",
   "metadata": {},
   "outputs": [],
   "source": [
    "def Derivative(f,x,h=1e-5):\n",
    "    return (f(x+h)-f(x-h))/(2*h)"
   ]
  },
  {
   "cell_type": "code",
   "execution_count": null,
   "id": "42a882d9",
   "metadata": {},
   "outputs": [],
   "source": [
    "def GetNewtonMethod(f,df,xn,itmax=1000,precision=1e-5):\n",
    "    error = 1\n",
    "    it=0\n",
    "    \n",
    "    while error > precision and it < itmax:\n",
    "        \n",
    "        try:\n",
    "            \n",
    "            xn1 = xn - f(xn)/df(f,xn)\n",
    "            error = np.abs(f(xn)/df(f,xn))\n",
    "            \n",
    "        except ZeroDivisionError:\n",
    "            print('Division por cero')\n",
    "        \n",
    "        xn = xn1\n",
    "        it += 1\n",
    "        \n",
    "        \n",
    "    print('raiz:', xn,it)\n",
    "    \n",
    "    if it == itmax:\n",
    "        return False\n",
    "    else:\n",
    "        return xn"
   ]
  },
  {
   "cell_type": "code",
   "execution_count": null,
   "id": "32119fba",
   "metadata": {},
   "outputs": [],
   "source": [
    "root = GetNewtonMethod(GetLegendre,Derivative,1)"
   ]
  },
  {
   "cell_type": "code",
   "execution_count": null,
   "id": "76cbf1dc",
   "metadata": {},
   "outputs": [],
   "source": [
    "def GetAllRoots(x,f,tolerancia=8): \n",
    "    \n",
    "    Roots = np.array([])\n",
    "    for i in x:\n",
    "        root = GetNewtonMethod(GetLegendre,Derivative,i)\n",
    "        \n",
    "        if root!= False:\n",
    "            \n",
    "            croot = np.round( root, tolerancia)\n",
    "            \n",
    "            if croot not in Roots:\n",
    "                Roots = np.append(Roots,croot)\n",
    "    Roots.sort()\n",
    "    \n",
    "    return Roots"
   ]
  },
  {
   "cell_type": "code",
   "execution_count": null,
   "id": "edcdb14a",
   "metadata": {},
   "outputs": [],
   "source": [
    "def Calc_Raiz_20_pol():\n",
    "    Raices=np.array([])\n",
    "    n=np.arange(21)\n",
    "    \n",
    "    for i in n:\n",
    "        if i !=0:\n",
    "        \n",
    "            x=np.linspace(1,3,50)\n",
    "            r=GetAllRoots(x,GetLegendre(i))\n",
    "            \n",
    "            Raices=np.append(Raices,\"Legendre grad \"+str(i)+\":\")\n",
    "            Raices=np.append(Raices, r)\n",
    "        \n",
    "    return Raices\n",
    "r=Calc_Raiz_20_pol()\n",
    "print(r)"
   ]
  }
 ],
 "metadata": {
  "kernelspec": {
   "display_name": "Python 3 (ipykernel)",
   "language": "python",
   "name": "python3"
  },
  "language_info": {
   "codemirror_mode": {
    "name": "ipython",
    "version": 3
   },
   "file_extension": ".py",
   "mimetype": "text/x-python",
   "name": "python",
   "nbconvert_exporter": "python",
   "pygments_lexer": "ipython3",
   "version": "3.8.8"
  }
 },
 "nbformat": 4,
 "nbformat_minor": 5
}
