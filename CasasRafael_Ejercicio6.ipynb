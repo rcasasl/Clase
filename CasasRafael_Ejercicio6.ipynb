{
 "cells": [
  {
   "cell_type": "markdown",
   "metadata": {
    "id": "Ca47pvrzRXMy"
   },
   "source": [
    "## Librerias"
   ]
  },
  {
   "cell_type": "code",
   "execution_count": 43,
   "metadata": {
    "id": "6f64d18c-e6fe-4328-a15d-9344842eabd1"
   },
   "outputs": [],
   "source": [
    "import numpy as np\n",
    "import matplotlib.pyplot as plt\n",
    "from scipy import integrate"
   ]
  },
  {
   "cell_type": "markdown",
   "metadata": {
    "id": "7Gv1no-mRcMn"
   },
   "source": [
    "## Problema 1\n",
    "\n",
    "Considere la integral, \n",
    "\n",
    "$$ I = \\int_0^1\\sin^2(\\sqrt{100x})\\,dx$$\n",
    "\n",
    "a) Cree la función `gauss_integrate(n)`, que reciba el grado `n` del polinomio de Gauss-Legendre y retorne la integral de la función pedida con el método de gauss-legendre. Puede usar la función `np.polynomial.legendre.leggauss` , para obtener los pesos y puntos de Legendre."
   ]
  },
  {
   "cell_type": "code",
   "execution_count": 44,
   "metadata": {
    "id": "Tx8fBk37gXrD"
   },
   "outputs": [],
   "source": [
    "def gauss_integrate(n):\n",
    "    \n",
    "    Roots,Weights = np.polynomial.legendre.leggauss(n)\n",
    "    \n",
    "    integral = 0\n",
    "    a = 0\n",
    "    b = 1\n",
    "    f = lambda x : np.sin((100*x)**0.5)**2\n",
    "    \n",
    "    t = 0.5*((b-a)*Roots + a + b)\n",
    "                          \n",
    "    integral = 0.5*(b-a)*np.sum( Weights*f(t) )\n",
    "                          \n",
    "    return integral\n"
   ]
  },
  {
   "cell_type": "code",
   "execution_count": 45,
   "metadata": {
    "id": "ni3JHLRDoqBv"
   },
   "outputs": [
    {
     "name": "stdout",
     "output_type": "stream",
     "text": [
      "0.5024843310662972\n",
      "0.6273262731105194\n",
      "0.23603692720508807\n",
      "0.42670930479562463\n",
      "0.4558325323090848\n",
      "0.4558325323090862\n"
     ]
    }
   ],
   "source": [
    "print(gauss_integrate(1))\n",
    "print(gauss_integrate(2))\n",
    "print(gauss_integrate(3))\n",
    "print(gauss_integrate(4))\n",
    "print(gauss_integrate(20))\n",
    "print(gauss_integrate(100))"
   ]
  },
  {
   "cell_type": "markdown",
   "metadata": {
    "id": "7vK6RFJ1W_p2"
   },
   "source": [
    "b) Verifique sus resultados obtenidos usando la libreria `scipy.integrate`. Imprima los resultados obtenidos con la libreria."
   ]
  },
  {
   "cell_type": "code",
   "execution_count": 58,
   "metadata": {
    "id": "sQJZ_280pLqK"
   },
   "outputs": [
    {
     "name": "stdout",
     "output_type": "stream",
     "text": [
      "0.5024843310662972\n",
      "0.6273262731105194\n",
      "0.23603692720508793\n",
      "0.42670930479562463\n",
      "0.4558325323090853\n",
      "0.45583253230908444\n"
     ]
    }
   ],
   "source": [
    "f = lambda x: np.sin((100*x)**0.5)**2\n",
    "verintegral1 = integrate.fixed_quad(f,0,1,n=1)[0]\n",
    "verintegral2 = integrate.fixed_quad(f,0,1,n=2)[0]\n",
    "verintegral3 = integrate.fixed_quad(f,0,1,n=3)[0]\n",
    "verintegral4 = integrate.fixed_quad(f,0,1,n=4)[0]\n",
    "verintegral20 = integrate.fixed_quad(f,0,1,n=20)[0]\n",
    "verintegral100 = integrate.fixed_quad(f,0,1,n=100)[0]\n",
    "print(verintegral1)\n",
    "print(verintegral2)\n",
    "print(verintegral3)\n",
    "print(verintegral4)\n",
    "print(verintegral20)\n",
    "print(verintegral100)"
   ]
  },
  {
   "cell_type": "markdown",
   "metadata": {
    "id": "-tn9unovTwJ4"
   },
   "source": [
    "## Problema 2\n",
    "\n",
    "A partir del método de Montecarlo, calcule el volumen de un cono cuya base tiene radio $1$, y cuya altura es $3$, con 100000 (cien mil puntos de Montecarlo). Guarde el volumen en la variable `volume_cone`, al final incluya el siguiente `print `para la evaluación de su ejercicio. \n",
    "\n",
    "\n",
    "\n",
    "```\n",
    "print(f\"Volume of a cone = {volume_cone}\")\n",
    "```"
   ]
  },
  {
   "cell_type": "markdown",
   "metadata": {
    "id": "4vh-B44hYQZX"
   },
   "source": [
    "  a) Empiece creando 3 listas de 100000 numeros aleatorios con probabilidad uniforme $x$ , $y$ y $z$. ¿Cuales son los límites $x$, $y$ y $z$ del paralepipedo resultante?"
   ]
  },
  {
   "cell_type": "code",
   "execution_count": 68,
   "metadata": {
    "id": "AoJU2ACpX9Ds"
   },
   "outputs": [],
   "source": [
    "## su codigo aqui\n",
    "lista1 = np.random.rand(0,3,100000)\n",
    "lista2 = np.random.rand(2,5,100000)\n",
    "lista3 = np.random.rand(1,4,100000)\n",
    "#"
   ]
  },
  {
   "cell_type": "markdown",
   "metadata": {
    "id": "V26zVI-YZA88"
   },
   "source": [
    "b) Escriba la función f(x, y) que define el limite del cono, es decir los puntos que están debajo de esa función hacen parte del cono. "
   ]
  },
  {
   "cell_type": "code",
   "execution_count": null,
   "metadata": {
    "id": "dgkKsu2YZBMN"
   },
   "outputs": [],
   "source": [
    "def f(x, y):\n",
    "    res = 0\n",
    "    ## su codigo aqui\n",
    "    z  =\n",
    "    return res"
   ]
  },
  {
   "cell_type": "markdown",
   "metadata": {
    "id": "zWzE6ZguZ3z3"
   },
   "source": [
    "c) A partir del metodo de Monte Carlo, halle el volumen del cono."
   ]
  },
  {
   "cell_type": "code",
   "execution_count": null,
   "metadata": {
    "id": "kTN_ZGDMZU_r"
   },
   "outputs": [],
   "source": [
    "volume_cone = 0\n",
    "## su codigo aqui\n",
    "\n",
    "\n",
    "print(f\"Volume of a cone = {volume_cone}\")"
   ]
  }
 ],
 "metadata": {
  "colab": {
   "collapsed_sections": [],
   "provenance": []
  },
  "kernelspec": {
   "display_name": "Python 3",
   "language": "python",
   "name": "python3"
  },
  "language_info": {
   "codemirror_mode": {
    "name": "ipython",
    "version": 3
   },
   "file_extension": ".py",
   "mimetype": "text/x-python",
   "name": "python",
   "nbconvert_exporter": "python",
   "pygments_lexer": "ipython3",
   "version": "3.7.10"
  }
 },
 "nbformat": 4,
 "nbformat_minor": 5
}
